{
  "nbformat": 4,
  "nbformat_minor": 0,
  "metadata": {
    "colab": {
      "provenance": [],
      "authorship_tag": "ABX9TyOoUPZ/tM5NEHQV/MRNdlAr",
      "include_colab_link": true
    },
    "kernelspec": {
      "name": "python3",
      "display_name": "Python 3"
    },
    "language_info": {
      "name": "python"
    }
  },
  "cells": [
    {
      "cell_type": "markdown",
      "metadata": {
        "id": "view-in-github",
        "colab_type": "text"
      },
      "source": [
        "<a href=\"https://colab.research.google.com/github/punishedchumbucket6000/K-Nearest-Neighbor/blob/main/K_Nearest_Neighbor.ipynb\" target=\"_parent\"><img src=\"https://colab.research.google.com/assets/colab-badge.svg\" alt=\"Open In Colab\"/></a>"
      ]
    },
    {
      "cell_type": "code",
      "execution_count": null,
      "metadata": {
        "id": "ZuIHCFZZqLcv"
      },
      "outputs": [],
      "source": [
        "import matplotlib.pyplot as plt\n",
        "import pandas as pd\n"
      ]
    },
    {
      "cell_type": "code",
      "source": [
        "df = pd.read_csv(\"Social_Network_Ads.csv\")\n",
        "X = df.iloc[:, 0:2].values\n",
        "y = df.iloc[:, 2].values\n",
        "\n",
        "print(y)"
      ],
      "metadata": {
        "id": "89mYlc15q3dC",
        "colab": {
          "base_uri": "https://localhost:8080/"
        },
        "outputId": "ecc34b24-9686-4b56-b8ab-b7c296fa1174"
      },
      "execution_count": null,
      "outputs": [
        {
          "output_type": "stream",
          "name": "stdout",
          "text": [
            "[0 0 0 0 0 0 0 1 0 0 0 0 0 0 0 0 1 1 1 1 1 1 1 1 1 1 1 1 0 0 0 1 0 0 0 0 0\n",
            " 0 0 0 0 0 0 0 0 0 0 0 1 0 0 0 0 0 0 0 0 0 0 0 0 0 0 1 0 0 0 0 0 0 0 0 0 0\n",
            " 0 1 0 0 0 0 0 0 0 0 0 1 0 0 0 0 0 0 0 0 0 0 0 1 0 0 0 0 0 1 0 0 0 0 0 0 0\n",
            " 0 0 0 0 0 0 0 0 0 0 0 0 0 0 0 0 0 0 0 0 0 0 0 0 0 0 1 0 0 0 0 0 0 0 0 1 0\n",
            " 0 0 0 0 0 0 0 0 0 0 0 1 1 0 0 0 0 0 0 0 1 0 0 0 0 0 0 0 0 0 0 0 0 0 1 0 0\n",
            " 0 0 0 0 0 0 0 0 0 0 0 0 0 0 0 0 0 1 0 1 0 1 0 1 0 1 1 0 0 0 1 0 0 0 1 0 1\n",
            " 1 1 0 0 1 1 0 1 1 0 1 1 0 1 0 0 0 1 1 0 1 1 0 1 0 1 0 1 0 0 1 1 0 1 0 0 1\n",
            " 1 0 1 1 0 1 1 0 0 1 0 0 1 1 1 1 1 0 1 1 1 1 0 1 1 0 1 0 1 0 1 1 1 1 0 0 0\n",
            " 1 1 0 1 1 1 1 1 0 0 0 1 1 0 0 1 0 1 0 1 1 0 1 0 1 1 0 1 1 0 0 0 1 1 0 1 0\n",
            " 0 1 0 1 0 0 1 1 0 0 1 1 0 1 1 0 0 1 0 1 0 1 1 1 0 1 0 1 1 1 0 1 1 1 1 0 1\n",
            " 1 1 0 1 0 1 0 0 1 1 0 1 1 1 1 1 1 0 1 1 1 1 1 1 0 1 1 1 0 1]\n"
          ]
        }
      ]
    },
    {
      "cell_type": "code",
      "source": [
        "from sklearn.model_selection import train_test_split\n",
        "X_train, X_test, y_train, y_test = train_test_split(X, y, test_size = 0.2)"
      ],
      "metadata": {
        "id": "jHOM2i9-tLNi"
      },
      "execution_count": null,
      "outputs": []
    },
    {
      "cell_type": "code",
      "source": [
        "from sklearn.preprocessing import StandardScaler\n",
        "sc = StandardScaler()\n",
        "\n",
        "X_train = sc.fit_transform(X_train)\n",
        "X_test = sc.transform(X_test)"
      ],
      "metadata": {
        "id": "qXpgH2l-um0_"
      },
      "execution_count": null,
      "outputs": []
    },
    {
      "cell_type": "code",
      "source": [
        "print(X_train)"
      ],
      "metadata": {
        "id": "0jPJBkE2u7Jl",
        "colab": {
          "base_uri": "https://localhost:8080/"
        },
        "outputId": "a7962594-6976-41e4-ec3c-171d73e9d49e"
      },
      "execution_count": null,
      "outputs": [
        {
          "output_type": "stream",
          "name": "stdout",
          "text": [
            "[[-0.98692187  0.83182904]\n",
            " [-0.98692187  0.5931781 ]\n",
            " [ 0.24933076 -0.24210019]\n",
            " [ 0.05913805 -0.21226883]\n",
            " [ 1.0101016  -1.04754712]\n",
            " [ 0.91500525 -1.3458608 ]\n",
            " [ 0.34442711 -0.48075114]\n",
            " [-0.51144009  2.4427229 ]\n",
            " [-1.08201822 -1.52484901]\n",
            " [ 0.81990889  0.4141899 ]\n",
            " [ 1.58067974  1.18980546]\n",
            " [-1.27221093 -0.39125703]\n",
            " [ 0.24933076  0.20537032]\n",
            " [-0.89182551 -1.07737849]\n",
            " [ 1.20029431 -0.71940208]\n",
            " [-0.7016328   0.62300947]\n",
            " [ 1.58067974  0.05621348]\n",
            " [ 1.58067974  1.07047999]\n",
            " [-0.98692187  0.65284084]\n",
            " [-1.08201822  0.11587622]\n",
            " [-1.08201822 -1.55468037]\n",
            " [-0.89182551  0.503684  ]\n",
            " [-0.03595831 -1.04754712]\n",
            " [-0.03595831 -0.18243746]\n",
            " [ 0.43952347  1.18980546]\n",
            " [ 1.10519796  0.5931781 ]\n",
            " [-0.51144009  0.53351537]\n",
            " [ 2.15125787 -0.77906481]\n",
            " [-1.27221093 -1.22653533]\n",
            " [-0.60653644 -0.30176293]\n",
            " [-0.22615102 -0.09294336]\n",
            " [-1.27221093 -0.30176293]\n",
            " [ 1.0101016   0.17553895]\n",
            " [-0.98692187 -1.10720986]\n",
            " [-0.32124738 -0.74923345]\n",
            " [-0.22615102  0.11587622]\n",
            " [ 0.34442711 -0.27193156]\n",
            " [-0.60653644 -1.01771576]\n",
            " [-0.22615102  2.3532288 ]\n",
            " [-0.32124738 -0.74923345]\n",
            " [-0.41634373 -0.24210019]\n",
            " [ 0.43952347  0.35452716]\n",
            " [-0.03595831 -0.3315943 ]\n",
            " [-1.27221093 -1.46518627]\n",
            " [ 1.10519796  2.17424059]\n",
            " [-0.03595831  2.2637347 ]\n",
            " [ 1.67577609  1.69693871]\n",
            " [-1.08201822 -0.48075114]\n",
            " [-0.60653644 -0.06311199]\n",
            " [-0.60653644  0.23520169]\n",
            " [-0.60653644 -1.58451174]\n",
            " [ 0.24933076  0.11587622]\n",
            " [ 0.43952347  0.05621348]\n",
            " [ 1.39048703  2.08474649]\n",
            " [-0.7016328   0.32469579]\n",
            " [ 0.34442711 -0.24210019]\n",
            " [ 0.81990889  0.32469579]\n",
            " [-0.13105467 -0.4210884 ]\n",
            " [-0.13105467  2.2637347 ]\n",
            " [ 0.91500525  1.15997409]\n",
            " [-1.08201822  0.35452716]\n",
            " [ 2.05616152  0.23520169]\n",
            " [-1.08201822  0.38435853]\n",
            " [ 2.05616152 -1.16687259]\n",
            " [ 2.05616152 -0.77906481]\n",
            " [-0.60653644 -0.00344925]\n",
            " [ 1.77087245 -0.24210019]\n",
            " [ 0.34442711  0.35452716]\n",
            " [-1.17711458  0.65284084]\n",
            " [-0.79672916 -0.74923345]\n",
            " [ 1.48558338  1.07047999]\n",
            " [-0.22615102  0.5931781 ]\n",
            " [ 2.15125787 -1.01771576]\n",
            " [ 0.72481254  0.32469579]\n",
            " [-0.51144009  1.45828777]\n",
            " [-1.74769271 -1.40552354]\n",
            " [ 0.34442711  0.11587622]\n",
            " [-1.36730729  0.4141899 ]\n",
            " [-1.84278907 -0.48075114]\n",
            " [ 0.43952347 -0.09294336]\n",
            " [-0.7016328   0.56334674]\n",
            " [-0.89182551  0.32469579]\n",
            " [-1.46240365  0.38435853]\n",
            " [-0.22615102 -0.24210019]\n",
            " [ 0.34442711  0.11587622]\n",
            " [-0.98692187 -0.30176293]\n",
            " [ 0.05913805 -0.5105825 ]\n",
            " [ 0.81990889 -0.27193156]\n",
            " [-0.03595831  0.11587622]\n",
            " [ 2.15125787  1.18980546]\n",
            " [-0.51144009  1.99525239]\n",
            " [-1.46240365 -1.49501764]\n",
            " [ 0.72481254  1.87592692]\n",
            " [-1.27221093  0.47385263]\n",
            " [ 0.34442711  0.11587622]\n",
            " [ 1.0101016  -0.80889618]\n",
            " [ 0.1542344   0.20537032]\n",
            " [-0.7016328   1.4284564 ]\n",
            " [-0.22615102 -1.28619806]\n",
            " [-0.79672916 -1.19670396]\n",
            " [ 0.05913805 -0.54041387]\n",
            " [-0.41634373 -1.19670396]\n",
            " [-0.22615102 -0.45091977]\n",
            " [ 0.05913805  1.30913093]\n",
            " [-0.13105467 -0.24210019]\n",
            " [ 0.91500525 -0.54041387]\n",
            " [ 0.43952347  0.20537032]\n",
            " [ 0.24933076  2.20407196]\n",
            " [ 1.0101016   2.08474649]\n",
            " [-1.08201822 -0.74923345]\n",
            " [-0.22615102  0.14570759]\n",
            " [ 0.43952347  0.35452716]\n",
            " [-0.7016328  -0.57024524]\n",
            " [-0.98692187  0.62300947]\n",
            " [-1.08201822  0.53351537]\n",
            " [-0.89182551  0.62300947]\n",
            " [-0.13105467 -0.15260609]\n",
            " [-0.89182551 -0.71940208]\n",
            " [-0.79672916  2.38306017]\n",
            " [-0.03595831  0.35452716]\n",
            " [ 1.10519796  0.17553895]\n",
            " [-0.51144009  1.54778187]\n",
            " [-0.98692187 -1.52484901]\n",
            " [ 0.53461982  1.93558965]\n",
            " [ 0.81990889 -1.19670396]\n",
            " [-0.32124738  1.30913093]\n",
            " [ 0.72481254 -1.07737849]\n",
            " [ 0.24933076 -0.21226883]\n",
            " [-0.22615102  0.20537032]\n",
            " [-1.74769271 -1.28619806]\n",
            " [-0.60653644 -1.49501764]\n",
            " [ 0.43952347  2.41289154]\n",
            " [ 0.34442711 -0.15260609]\n",
            " [ 0.34442711 -1.13704123]\n",
            " [ 0.43952347 -0.45091977]\n",
            " [-0.22615102  0.26503306]\n",
            " [-0.22615102 -1.4353549 ]\n",
            " [-1.5575     -1.55468037]\n",
            " [-1.65259636  0.4141899 ]\n",
            " [-0.98692187 -0.30176293]\n",
            " [ 1.0101016  -1.04754712]\n",
            " [ 0.1542344   0.08604485]\n",
            " [ 1.0101016  -1.16687259]\n",
            " [-0.22615102  0.86166041]\n",
            " [ 0.43952347 -0.4210884 ]\n",
            " [-0.41634373  1.3389623 ]\n",
            " [-1.74769271  0.05621348]\n",
            " [ 1.0101016  -0.98788439]\n",
            " [ 1.10519796 -0.95805302]\n",
            " [-0.89182551 -0.39125703]\n",
            " [-0.22615102 -0.30176293]\n",
            " [ 0.24933076 -0.09294336]\n",
            " [-1.74769271 -1.46518627]\n",
            " [-1.36730729 -1.19670396]\n",
            " [-0.03595831  0.35452716]\n",
            " [-0.03595831 -0.45091977]\n",
            " [-0.7016328  -1.52484901]\n",
            " [-0.03595831 -0.48075114]\n",
            " [ 1.0101016  -1.13704123]\n",
            " [-0.51144009 -1.49501764]\n",
            " [-0.22615102 -1.22653533]\n",
            " [-1.08201822 -1.13704123]\n",
            " [-0.79672916 -0.74923345]\n",
            " [-0.98692187 -1.4353549 ]\n",
            " [ 0.72481254 -1.2563667 ]\n",
            " [ 0.72481254 -0.68957071]\n",
            " [-0.7016328  -0.18243746]\n",
            " [-0.03595831  2.32339743]\n",
            " [-0.89182551 -0.27193156]\n",
            " [ 1.0101016   0.65284084]\n",
            " [ 1.96106516 -0.89839028]\n",
            " [-0.22615102 -0.62990797]\n",
            " [-1.36730729 -0.06311199]\n",
            " [ 0.43952347 -0.12277472]\n",
            " [ 1.8659688  -0.24210019]\n",
            " [-0.60653644  0.62300947]\n",
            " [-0.32124738 -1.28619806]\n",
            " [ 0.05913805 -0.09294336]\n",
            " [-0.79672916  0.35452716]\n",
            " [-0.03595831 -0.39125703]\n",
            " [-0.41634373  2.41289154]\n",
            " [ 1.0101016   0.83182904]\n",
            " [-0.41634373 -0.5105825 ]\n",
            " [-1.46240365 -1.22653533]\n",
            " [ 2.15125787  1.01081725]\n",
            " [ 0.24933076 -0.3315943 ]\n",
            " [-0.7016328   1.15997409]\n",
            " [ 1.39048703  2.4427229 ]\n",
            " [-1.74769271  0.23520169]\n",
            " [ 0.05913805 -0.21226883]\n",
            " [-0.22615102 -0.21226883]\n",
            " [ 0.05913805  0.35452716]\n",
            " [ 0.62971618  2.11457786]\n",
            " [-0.51144009 -1.49501764]\n",
            " [-0.13105467  1.69693871]\n",
            " [ 1.48558338  0.11587622]\n",
            " [ 0.05913805  0.08604485]\n",
            " [-0.22615102 -0.54041387]\n",
            " [ 1.10519796 -1.19670396]\n",
            " [ 0.1542344   0.14570759]\n",
            " [ 0.34442711 -0.68957071]\n",
            " [-1.08201822  0.35452716]\n",
            " [ 0.91500525 -0.74923345]\n",
            " [ 1.0101016   1.96542102]\n",
            " [-0.79672916 -0.62990797]\n",
            " [ 2.05616152  2.23390333]\n",
            " [-1.84278907  0.53351537]\n",
            " [-0.03595831  0.29486443]\n",
            " [-0.41634373  0.02638212]\n",
            " [-1.36730729 -0.15260609]\n",
            " [ 0.1542344   0.08604485]\n",
            " [-0.22615102  0.11587622]\n",
            " [-0.41634373 -0.80889618]\n",
            " [ 0.34442711  0.32469579]\n",
            " [-1.27221093  0.62300947]\n",
            " [ 0.34442711 -0.48075114]\n",
            " [-1.65259636 -1.3458608 ]\n",
            " [-0.22615102  0.68267221]\n",
            " [ 0.81990889 -0.80889618]\n",
            " [ 0.24933076 -0.62990797]\n",
            " [ 1.48558338 -1.01771576]\n",
            " [ 0.43952347 -0.4210884 ]\n",
            " [ 1.20029431  0.5931781 ]\n",
            " [ 0.81990889 -1.37569217]\n",
            " [-0.13105467  0.92132315]\n",
            " [ 0.91500525 -1.01771576]\n",
            " [ 0.91500525 -0.62990797]\n",
            " [ 1.8659688   0.17553895]\n",
            " [ 0.24933076  0.20537032]\n",
            " [ 2.15125787 -0.77906481]\n",
            " [ 1.48558338  0.4141899 ]\n",
            " [ 0.91500525 -0.5105825 ]\n",
            " [ 0.81990889  0.17553895]\n",
            " [ 0.34442711 -0.5105825 ]\n",
            " [-1.46240365 -0.39125703]\n",
            " [ 0.1542344   1.96542102]\n",
            " [ 1.96106516  0.80199768]\n",
            " [-0.13105467  1.48811914]\n",
            " [ 1.10519796  0.53351537]\n",
            " [ 0.81990889  1.45828777]\n",
            " [-1.08201822 -1.07737849]\n",
            " [-1.84278907 -0.00344925]\n",
            " [-0.32124738  0.11587622]\n",
            " [ 1.8659688  -1.04754712]\n",
            " [ 1.96106516 -0.62990797]\n",
            " [-0.03595831  0.08604485]\n",
            " [ 0.1542344  -0.77906481]\n",
            " [ 1.0101016   1.5179505 ]\n",
            " [ 0.62971618 -0.86855892]\n",
            " [-0.22615102 -0.71940208]\n",
            " [-1.08201822 -1.58451174]\n",
            " [-1.08201822 -0.98788439]\n",
            " [-1.17711458  0.35452716]\n",
            " [-0.60653644  0.08604485]\n",
            " [-1.84278907 -0.71940208]\n",
            " [-1.17711458 -1.37569217]\n",
            " [ 0.05913805  0.08604485]\n",
            " [ 1.96106516 -1.3458608 ]\n",
            " [ 0.24933076  0.08604485]\n",
            " [-1.08201822  0.47385263]\n",
            " [-0.51144009  0.95115452]\n",
            " [ 0.72481254 -1.37569217]\n",
            " [ 0.1542344   0.32469579]\n",
            " [-0.7016328  -1.58451174]\n",
            " [ 1.8659688   1.60744461]\n",
            " [-0.79672916 -0.21226883]\n",
            " [-1.74769271  0.503684  ]\n",
            " [-1.08201822  1.48811914]\n",
            " [ 1.39048703 -1.40552354]\n",
            " [-0.98692187 -0.4210884 ]\n",
            " [ 0.43952347 -0.09294336]\n",
            " [ 0.24933076  1.15997409]\n",
            " [-1.17711458 -1.04754712]\n",
            " [ 0.53461982  1.81626418]\n",
            " [ 0.81990889 -1.3458608 ]\n",
            " [-1.17711458  0.56334674]\n",
            " [-0.22615102  0.20537032]\n",
            " [ 0.43952347  0.65284084]\n",
            " [-0.79672916  0.44402126]\n",
            " [ 0.34442711  0.08604485]\n",
            " [ 2.15125787 -0.65973934]\n",
            " [-0.22615102 -0.54041387]\n",
            " [ 1.10519796 -0.09294336]\n",
            " [ 1.20029431 -1.4353549 ]\n",
            " [-1.27221093 -1.3458608 ]\n",
            " [ 0.43952347  1.07047999]\n",
            " [-1.27221093 -1.07737849]\n",
            " [-1.84278907  0.4141899 ]\n",
            " [ 1.39048703  0.65284084]\n",
            " [ 0.1542344  -0.27193156]\n",
            " [-0.98692187 -0.3315943 ]\n",
            " [-0.22615102 -0.89839028]\n",
            " [ 2.05616152  0.44402126]\n",
            " [-0.22615102  0.08604485]\n",
            " [-1.65259636 -0.57024524]\n",
            " [ 1.29539067  1.96542102]\n",
            " [ 2.15125787  0.44402126]\n",
            " [-0.60653644  1.48811914]\n",
            " [-0.41634373 -1.10720986]\n",
            " [-1.27221093 -0.39125703]\n",
            " [-0.79672916  0.44402126]\n",
            " [ 0.91500525  2.2637347 ]\n",
            " [-0.13105467 -1.04754712]\n",
            " [ 0.24933076  0.29486443]\n",
            " [-0.22615102 -0.27193156]\n",
            " [ 0.05913805 -0.39125703]\n",
            " [ 1.0101016   2.17424059]\n",
            " [ 1.58067974 -1.2563667 ]\n",
            " [ 0.91500525 -1.28619806]\n",
            " [ 1.20029431 -0.95805302]\n",
            " [-1.36730729 -0.60007661]\n",
            " [-1.5575      0.5931781 ]\n",
            " [-1.5575      0.11587622]\n",
            " [-0.98692187  2.05491512]\n",
            " [ 0.91500525 -1.4353549 ]\n",
            " [ 1.10519796  0.62300947]\n",
            " [ 0.05913805  1.3389623 ]\n",
            " [ 0.34442711  0.11587622]\n",
            " [ 1.67577609  1.84609555]\n",
            " [-1.65259636  0.53351537]]\n"
          ]
        }
      ]
    },
    {
      "cell_type": "code",
      "source": [
        "from sklearn.neighbors import KNeighborsClassifier\n",
        "classifier = KNeighborsClassifier(n_neighbors = 5, metric='minkowski', p = 2 )\n",
        "classifier.fit(X_train, y_train)"
      ],
      "metadata": {
        "colab": {
          "base_uri": "https://localhost:8080/",
          "height": 75
        },
        "id": "KDeIzm_Mvk95",
        "outputId": "bc055655-2921-4d80-ab97-6a0901c1720e"
      },
      "execution_count": null,
      "outputs": [
        {
          "output_type": "execute_result",
          "data": {
            "text/plain": [
              "KNeighborsClassifier()"
            ],
            "text/html": [
              "<style>#sk-container-id-1 {color: black;background-color: white;}#sk-container-id-1 pre{padding: 0;}#sk-container-id-1 div.sk-toggleable {background-color: white;}#sk-container-id-1 label.sk-toggleable__label {cursor: pointer;display: block;width: 100%;margin-bottom: 0;padding: 0.3em;box-sizing: border-box;text-align: center;}#sk-container-id-1 label.sk-toggleable__label-arrow:before {content: \"▸\";float: left;margin-right: 0.25em;color: #696969;}#sk-container-id-1 label.sk-toggleable__label-arrow:hover:before {color: black;}#sk-container-id-1 div.sk-estimator:hover label.sk-toggleable__label-arrow:before {color: black;}#sk-container-id-1 div.sk-toggleable__content {max-height: 0;max-width: 0;overflow: hidden;text-align: left;background-color: #f0f8ff;}#sk-container-id-1 div.sk-toggleable__content pre {margin: 0.2em;color: black;border-radius: 0.25em;background-color: #f0f8ff;}#sk-container-id-1 input.sk-toggleable__control:checked~div.sk-toggleable__content {max-height: 200px;max-width: 100%;overflow: auto;}#sk-container-id-1 input.sk-toggleable__control:checked~label.sk-toggleable__label-arrow:before {content: \"▾\";}#sk-container-id-1 div.sk-estimator input.sk-toggleable__control:checked~label.sk-toggleable__label {background-color: #d4ebff;}#sk-container-id-1 div.sk-label input.sk-toggleable__control:checked~label.sk-toggleable__label {background-color: #d4ebff;}#sk-container-id-1 input.sk-hidden--visually {border: 0;clip: rect(1px 1px 1px 1px);clip: rect(1px, 1px, 1px, 1px);height: 1px;margin: -1px;overflow: hidden;padding: 0;position: absolute;width: 1px;}#sk-container-id-1 div.sk-estimator {font-family: monospace;background-color: #f0f8ff;border: 1px dotted black;border-radius: 0.25em;box-sizing: border-box;margin-bottom: 0.5em;}#sk-container-id-1 div.sk-estimator:hover {background-color: #d4ebff;}#sk-container-id-1 div.sk-parallel-item::after {content: \"\";width: 100%;border-bottom: 1px solid gray;flex-grow: 1;}#sk-container-id-1 div.sk-label:hover label.sk-toggleable__label {background-color: #d4ebff;}#sk-container-id-1 div.sk-serial::before {content: \"\";position: absolute;border-left: 1px solid gray;box-sizing: border-box;top: 0;bottom: 0;left: 50%;z-index: 0;}#sk-container-id-1 div.sk-serial {display: flex;flex-direction: column;align-items: center;background-color: white;padding-right: 0.2em;padding-left: 0.2em;position: relative;}#sk-container-id-1 div.sk-item {position: relative;z-index: 1;}#sk-container-id-1 div.sk-parallel {display: flex;align-items: stretch;justify-content: center;background-color: white;position: relative;}#sk-container-id-1 div.sk-item::before, #sk-container-id-1 div.sk-parallel-item::before {content: \"\";position: absolute;border-left: 1px solid gray;box-sizing: border-box;top: 0;bottom: 0;left: 50%;z-index: -1;}#sk-container-id-1 div.sk-parallel-item {display: flex;flex-direction: column;z-index: 1;position: relative;background-color: white;}#sk-container-id-1 div.sk-parallel-item:first-child::after {align-self: flex-end;width: 50%;}#sk-container-id-1 div.sk-parallel-item:last-child::after {align-self: flex-start;width: 50%;}#sk-container-id-1 div.sk-parallel-item:only-child::after {width: 0;}#sk-container-id-1 div.sk-dashed-wrapped {border: 1px dashed gray;margin: 0 0.4em 0.5em 0.4em;box-sizing: border-box;padding-bottom: 0.4em;background-color: white;}#sk-container-id-1 div.sk-label label {font-family: monospace;font-weight: bold;display: inline-block;line-height: 1.2em;}#sk-container-id-1 div.sk-label-container {text-align: center;}#sk-container-id-1 div.sk-container {/* jupyter's `normalize.less` sets `[hidden] { display: none; }` but bootstrap.min.css set `[hidden] { display: none !important; }` so we also need the `!important` here to be able to override the default hidden behavior on the sphinx rendered scikit-learn.org. See: https://github.com/scikit-learn/scikit-learn/issues/21755 */display: inline-block !important;position: relative;}#sk-container-id-1 div.sk-text-repr-fallback {display: none;}</style><div id=\"sk-container-id-1\" class=\"sk-top-container\"><div class=\"sk-text-repr-fallback\"><pre>KNeighborsClassifier()</pre><b>In a Jupyter environment, please rerun this cell to show the HTML representation or trust the notebook. <br />On GitHub, the HTML representation is unable to render, please try loading this page with nbviewer.org.</b></div><div class=\"sk-container\" hidden><div class=\"sk-item\"><div class=\"sk-estimator sk-toggleable\"><input class=\"sk-toggleable__control sk-hidden--visually\" id=\"sk-estimator-id-1\" type=\"checkbox\" checked><label for=\"sk-estimator-id-1\" class=\"sk-toggleable__label sk-toggleable__label-arrow\">KNeighborsClassifier</label><div class=\"sk-toggleable__content\"><pre>KNeighborsClassifier()</pre></div></div></div></div></div>"
            ]
          },
          "metadata": {},
          "execution_count": 6
        }
      ]
    },
    {
      "cell_type": "code",
      "source": [
        "classifier.predict(sc.transform( [[40, 50_000]] ) )"
      ],
      "metadata": {
        "colab": {
          "base_uri": "https://localhost:8080/"
        },
        "id": "TsJI9yTA7MBF",
        "outputId": "19148132-ad78-43f5-bbf0-1efcb25b2985"
      },
      "execution_count": null,
      "outputs": [
        {
          "output_type": "execute_result",
          "data": {
            "text/plain": [
              "array([0])"
            ]
          },
          "metadata": {},
          "execution_count": 7
        }
      ]
    },
    {
      "cell_type": "code",
      "source": [
        "y_pred = classifier.predict(X_test)"
      ],
      "metadata": {
        "id": "vVDyJ0DG8YPV"
      },
      "execution_count": null,
      "outputs": []
    },
    {
      "cell_type": "code",
      "source": [
        "from sklearn.metrics import confusion_matrix, accuracy_score\n",
        "cm = confusion_matrix(y_test, y_pred)\n",
        "print(cm)\n",
        "accuracy_score(y_test, y_pred)"
      ],
      "metadata": {
        "colab": {
          "base_uri": "https://localhost:8080/"
        },
        "id": "oPmGUv7-876t",
        "outputId": "6fb6821d-1e77-4101-9bd5-96ee0398d406"
      },
      "execution_count": null,
      "outputs": [
        {
          "output_type": "stream",
          "name": "stdout",
          "text": [
            "[[39  5]\n",
            " [ 4 32]]\n"
          ]
        },
        {
          "output_type": "execute_result",
          "data": {
            "text/plain": [
              "0.8875"
            ]
          },
          "metadata": {},
          "execution_count": 9
        }
      ]
    },
    {
      "cell_type": "code",
      "source": [
        "import numpy as np\n",
        "from matplotlib.colors import ListedColormap\n",
        "X_set, y_set = sc.inverse_transform(X_train), y_train\n",
        "X1, X2 = np.meshgrid(np.arange(start = X_set[:, 0].min() - 10, stop = X_set[:, 0].max() + 10, step = 1),\n",
        "                     np.arange(start = X_set[:, 1].min() - 1000, stop = X_set[:, 1].max() + 1000, step = 1))\n",
        "plt.contourf(X1, X2, classifier.predict(sc.transform(np.array([X1.ravel(), X2.ravel()]).T)).reshape(X1.shape),\n",
        "             alpha = 0.75, cmap = ListedColormap(('red', 'green')))\n",
        "plt.xlim(X1.min(), X1.max())\n",
        "plt.ylim(X2.min(), X2.max())\n",
        "for i, j in enumerate(np.unique(y_set)):\n",
        "    plt.scatter(X_set[y_set == j, 0], X_set[y_set == j, 1], c = ListedColormap(('red', 'green'))(i), label = j)\n",
        "plt.title('K-NN (Training set)')\n",
        "plt.xlabel('Age')\n",
        "plt.ylabel('Estimated Salary')\n",
        "plt.legend()\n",
        "plt.show()"
      ],
      "metadata": {
        "colab": {
          "base_uri": "https://localhost:8080/"
        },
        "id": "PMxczb9Q_k5j",
        "outputId": "45bf018d-b71d-4555-ab56-5db24f7e75dd"
      },
      "execution_count": null,
      "outputs": [
        {
          "output_type": "stream",
          "name": "stderr",
          "text": [
            "<ipython-input-10-bf5414ab7a26>:11: UserWarning: *c* argument looks like a single numeric RGB or RGBA sequence, which should be avoided as value-mapping will have precedence in case its length matches with *x* & *y*.  Please use the *color* keyword-argument or provide a 2D array with a single row if you intend to specify the same RGB or RGBA value for all points.\n",
            "  plt.scatter(X_set[y_set == j, 0], X_set[y_set == j, 1], c = ListedColormap(('red', 'green'))(i), label = j)\n"
          ]
        },
        {
          "output_type": "display_data",
          "data": {
            "text/plain": [
              "<Figure size 640x480 with 1 Axes>"
            ],
            "image/png": "[encoded data removed]"
          },
          "metadata": {}
        }
      ]
    }
  ]
}